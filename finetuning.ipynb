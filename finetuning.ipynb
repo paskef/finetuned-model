{
  "nbformat": 4,
  "nbformat_minor": 0,
  "metadata": {
    "colab": {
      "provenance": [],
      "gpuType": "T4",
      "include_colab_link": true
    },
    "kernelspec": {
      "name": "python3",
      "display_name": "Python 3"
    },
    "language_info": {
      "name": "python"
    },
    "accelerator": "GPU",
    "widgets": {
      "application/vnd.jupyter.widget-state+json": {
        "ebbc6185f7004f3691fb978f57a71906": {
          "model_module": "@jupyter-widgets/controls",
          "model_name": "HBoxModel",
          "model_module_version": "1.5.0",
          "state": {
            "_dom_classes": [],
            "_model_module": "@jupyter-widgets/controls",
            "_model_module_version": "1.5.0",
            "_model_name": "HBoxModel",
            "_view_count": null,
            "_view_module": "@jupyter-widgets/controls",
            "_view_module_version": "1.5.0",
            "_view_name": "HBoxView",
            "box_style": "",
            "children": [
              "IPY_MODEL_f9294a9323de4844878bc5d9132a1d44",
              "IPY_MODEL_02fe60d44c79455db8b7aec9936bdd5b",
              "IPY_MODEL_f16256fc566146f5b7ba68d3505d5bb4"
            ],
            "layout": "IPY_MODEL_b5ab65ec7f67423cacf9d5d7e430376e"
          }
        },
        "f9294a9323de4844878bc5d9132a1d44": {
          "model_module": "@jupyter-widgets/controls",
          "model_name": "HTMLModel",
          "model_module_version": "1.5.0",
          "state": {
            "_dom_classes": [],
            "_model_module": "@jupyter-widgets/controls",
            "_model_module_version": "1.5.0",
            "_model_name": "HTMLModel",
            "_view_count": null,
            "_view_module": "@jupyter-widgets/controls",
            "_view_module_version": "1.5.0",
            "_view_name": "HTMLView",
            "description": "",
            "description_tooltip": null,
            "layout": "IPY_MODEL_8ff1b404b79e4760ae8fb4934f7b8ffb",
            "placeholder": "​",
            "style": "IPY_MODEL_e269dde756894b509ff85555e28311dd",
            "value": "Map (num_proc=4): 100%"
          }
        },
        "02fe60d44c79455db8b7aec9936bdd5b": {
          "model_module": "@jupyter-widgets/controls",
          "model_name": "FloatProgressModel",
          "model_module_version": "1.5.0",
          "state": {
            "_dom_classes": [],
            "_model_module": "@jupyter-widgets/controls",
            "_model_module_version": "1.5.0",
            "_model_name": "FloatProgressModel",
            "_view_count": null,
            "_view_module": "@jupyter-widgets/controls",
            "_view_module_version": "1.5.0",
            "_view_name": "ProgressView",
            "bar_style": "success",
            "description": "",
            "description_tooltip": null,
            "layout": "IPY_MODEL_a88a09135beb4a82bfa17261df456230",
            "max": 375,
            "min": 0,
            "orientation": "horizontal",
            "style": "IPY_MODEL_7735f520d0d446718744c695249a3b7a",
            "value": 375
          }
        },
        "f16256fc566146f5b7ba68d3505d5bb4": {
          "model_module": "@jupyter-widgets/controls",
          "model_name": "HTMLModel",
          "model_module_version": "1.5.0",
          "state": {
            "_dom_classes": [],
            "_model_module": "@jupyter-widgets/controls",
            "_model_module_version": "1.5.0",
            "_model_name": "HTMLModel",
            "_view_count": null,
            "_view_module": "@jupyter-widgets/controls",
            "_view_module_version": "1.5.0",
            "_view_name": "HTMLView",
            "description": "",
            "description_tooltip": null,
            "layout": "IPY_MODEL_015af1ac9d8a42ef821b00e061f869c7",
            "placeholder": "​",
            "style": "IPY_MODEL_a19053095d4f40469a7cab34b7ac63f1",
            "value": " 375/375 [00:07&lt;00:00, 65.42 examples/s]"
          }
        },
        "b5ab65ec7f67423cacf9d5d7e430376e": {
          "model_module": "@jupyter-widgets/base",
          "model_name": "LayoutModel",
          "model_module_version": "1.2.0",
          "state": {
            "_model_module": "@jupyter-widgets/base",
            "_model_module_version": "1.2.0",
            "_model_name": "LayoutModel",
            "_view_count": null,
            "_view_module": "@jupyter-widgets/base",
            "_view_module_version": "1.2.0",
            "_view_name": "LayoutView",
            "align_content": null,
            "align_items": null,
            "align_self": null,
            "border": null,
            "bottom": null,
            "display": null,
            "flex": null,
            "flex_flow": null,
            "grid_area": null,
            "grid_auto_columns": null,
            "grid_auto_flow": null,
            "grid_auto_rows": null,
            "grid_column": null,
            "grid_gap": null,
            "grid_row": null,
            "grid_template_areas": null,
            "grid_template_columns": null,
            "grid_template_rows": null,
            "height": null,
            "justify_content": null,
            "justify_items": null,
            "left": null,
            "margin": null,
            "max_height": null,
            "max_width": null,
            "min_height": null,
            "min_width": null,
            "object_fit": null,
            "object_position": null,
            "order": null,
            "overflow": null,
            "overflow_x": null,
            "overflow_y": null,
            "padding": null,
            "right": null,
            "top": null,
            "visibility": null,
            "width": null
          }
        },
        "8ff1b404b79e4760ae8fb4934f7b8ffb": {
          "model_module": "@jupyter-widgets/base",
          "model_name": "LayoutModel",
          "model_module_version": "1.2.0",
          "state": {
            "_model_module": "@jupyter-widgets/base",
            "_model_module_version": "1.2.0",
            "_model_name": "LayoutModel",
            "_view_count": null,
            "_view_module": "@jupyter-widgets/base",
            "_view_module_version": "1.2.0",
            "_view_name": "LayoutView",
            "align_content": null,
            "align_items": null,
            "align_self": null,
            "border": null,
            "bottom": null,
            "display": null,
            "flex": null,
            "flex_flow": null,
            "grid_area": null,
            "grid_auto_columns": null,
            "grid_auto_flow": null,
            "grid_auto_rows": null,
            "grid_column": null,
            "grid_gap": null,
            "grid_row": null,
            "grid_template_areas": null,
            "grid_template_columns": null,
            "grid_template_rows": null,
            "height": null,
            "justify_content": null,
            "justify_items": null,
            "left": null,
            "margin": null,
            "max_height": null,
            "max_width": null,
            "min_height": null,
            "min_width": null,
            "object_fit": null,
            "object_position": null,
            "order": null,
            "overflow": null,
            "overflow_x": null,
            "overflow_y": null,
            "padding": null,
            "right": null,
            "top": null,
            "visibility": null,
            "width": null
          }
        },
        "e269dde756894b509ff85555e28311dd": {
          "model_module": "@jupyter-widgets/controls",
          "model_name": "DescriptionStyleModel",
          "model_module_version": "1.5.0",
          "state": {
            "_model_module": "@jupyter-widgets/controls",
            "_model_module_version": "1.5.0",
            "_model_name": "DescriptionStyleModel",
            "_view_count": null,
            "_view_module": "@jupyter-widgets/base",
            "_view_module_version": "1.2.0",
            "_view_name": "StyleView",
            "description_width": ""
          }
        },
        "a88a09135beb4a82bfa17261df456230": {
          "model_module": "@jupyter-widgets/base",
          "model_name": "LayoutModel",
          "model_module_version": "1.2.0",
          "state": {
            "_model_module": "@jupyter-widgets/base",
            "_model_module_version": "1.2.0",
            "_model_name": "LayoutModel",
            "_view_count": null,
            "_view_module": "@jupyter-widgets/base",
            "_view_module_version": "1.2.0",
            "_view_name": "LayoutView",
            "align_content": null,
            "align_items": null,
            "align_self": null,
            "border": null,
            "bottom": null,
            "display": null,
            "flex": null,
            "flex_flow": null,
            "grid_area": null,
            "grid_auto_columns": null,
            "grid_auto_flow": null,
            "grid_auto_rows": null,
            "grid_column": null,
            "grid_gap": null,
            "grid_row": null,
            "grid_template_areas": null,
            "grid_template_columns": null,
            "grid_template_rows": null,
            "height": null,
            "justify_content": null,
            "justify_items": null,
            "left": null,
            "margin": null,
            "max_height": null,
            "max_width": null,
            "min_height": null,
            "min_width": null,
            "object_fit": null,
            "object_position": null,
            "order": null,
            "overflow": null,
            "overflow_x": null,
            "overflow_y": null,
            "padding": null,
            "right": null,
            "top": null,
            "visibility": null,
            "width": null
          }
        },
        "7735f520d0d446718744c695249a3b7a": {
          "model_module": "@jupyter-widgets/controls",
          "model_name": "ProgressStyleModel",
          "model_module_version": "1.5.0",
          "state": {
            "_model_module": "@jupyter-widgets/controls",
            "_model_module_version": "1.5.0",
            "_model_name": "ProgressStyleModel",
            "_view_count": null,
            "_view_module": "@jupyter-widgets/base",
            "_view_module_version": "1.2.0",
            "_view_name": "StyleView",
            "bar_color": null,
            "description_width": ""
          }
        },
        "015af1ac9d8a42ef821b00e061f869c7": {
          "model_module": "@jupyter-widgets/base",
          "model_name": "LayoutModel",
          "model_module_version": "1.2.0",
          "state": {
            "_model_module": "@jupyter-widgets/base",
            "_model_module_version": "1.2.0",
            "_model_name": "LayoutModel",
            "_view_count": null,
            "_view_module": "@jupyter-widgets/base",
            "_view_module_version": "1.2.0",
            "_view_name": "LayoutView",
            "align_content": null,
            "align_items": null,
            "align_self": null,
            "border": null,
            "bottom": null,
            "display": null,
            "flex": null,
            "flex_flow": null,
            "grid_area": null,
            "grid_auto_columns": null,
            "grid_auto_flow": null,
            "grid_auto_rows": null,
            "grid_column": null,
            "grid_gap": null,
            "grid_row": null,
            "grid_template_areas": null,
            "grid_template_columns": null,
            "grid_template_rows": null,
            "height": null,
            "justify_content": null,
            "justify_items": null,
            "left": null,
            "margin": null,
            "max_height": null,
            "max_width": null,
            "min_height": null,
            "min_width": null,
            "object_fit": null,
            "object_position": null,
            "order": null,
            "overflow": null,
            "overflow_x": null,
            "overflow_y": null,
            "padding": null,
            "right": null,
            "top": null,
            "visibility": null,
            "width": null
          }
        },
        "a19053095d4f40469a7cab34b7ac63f1": {
          "model_module": "@jupyter-widgets/controls",
          "model_name": "DescriptionStyleModel",
          "model_module_version": "1.5.0",
          "state": {
            "_model_module": "@jupyter-widgets/controls",
            "_model_module_version": "1.5.0",
            "_model_name": "DescriptionStyleModel",
            "_view_count": null,
            "_view_module": "@jupyter-widgets/base",
            "_view_module_version": "1.2.0",
            "_view_name": "StyleView",
            "description_width": ""
          }
        }
      }
    }
  },
  "cells": [
    {
      "cell_type": "markdown",
      "metadata": {
        "id": "view-in-github",
        "colab_type": "text"
      },
      "source": [
        "<a href=\"https://colab.research.google.com/github/paskef/finetuned-model/blob/main/finetuning.ipynb\" target=\"_parent\"><img src=\"https://colab.research.google.com/assets/colab-badge.svg\" alt=\"Open In Colab\"/></a>"
      ]
    },
    {
      "cell_type": "code",
      "execution_count": null,
      "metadata": {
        "id": "kJACod4yLpF3"
      },
      "outputs": [],
      "source": [
        "%%capture\n",
        "from IPython import get_ipython\n",
        "from IPython.display import display\n",
        "import torch\n",
        "from unsloth import FastLanguageModel\n",
        "from datasets import load_dataset\n",
        "from trl import SFTTrainer\n",
        "from transformers import TrainingArguments\n",
        "from google.colab import drive"
      ]
    },
    {
      "cell_type": "code",
      "source": [
        "major_version, minor_version = torch.cuda.get_device_capability()\n",
        "\n",
        "# Instalação de pacotes necessários\n",
        "!pip install \"unsloth[colab-new] @ git+https://github.com/unslothai/unsloth.git\"\n",
        "\n",
        "if major_version >= 8:\n",
        "    !pip install --no-deps packaging ninja einops flash-attn xformers trl peft accelerate bitsandbytes\n",
        "else:\n",
        "    !pip install --no-deps xformers trl peft accelerate bitsandbytes\n"
      ],
      "metadata": {
        "id": "YKlVk8lzPeTS"
      },
      "execution_count": null,
      "outputs": []
    },
    {
      "cell_type": "markdown",
      "source": [
        "### **Configurações e carregamento do modelo**"
      ],
      "metadata": {
        "id": "t6MV20UX8XhA"
      }
    },
    {
      "cell_type": "code",
      "source": [
        "max_seq_length = 2048\n",
        "dtype = None\n",
        "load_in_4bit = True\n",
        "\n",
        "# Modelos de 4-bit disponíveis\n",
        "fourbit_models = [\n",
        "    \"unsloth/mistral-7b-bnb-4bit\",\n",
        "    \"unsloth/mistral-7b-instruct-v0.2-bnb-4bit\",\n",
        "    \"unsloth/llama-2-7b-bnb-4bit\",\n",
        "    \"unsloth/gemma-7b-bnb-4bit\",\n",
        "    \"unsloth/gemma-7b-it-bnb-4bit\",\n",
        "    \"unsloth/gemma-2b-bnb-4bit\",\n",
        "    \"unsloth/gemma-2b-it-bnb-4bit\",\n",
        "    \"unsloth/llama-3-8b-bnb-4bit\",\n",
        "]\n",
        "\n",
        "# Carregar o modelo e o tokenizer\n",
        "model, tokenizer = FastLanguageModel.from_pretrained(\n",
        "    model_name=\"unsloth/llama-3-8b-bnb-4bit\",\n",
        "    max_seq_length=max_seq_length,\n",
        "    dtype=dtype,\n",
        "    load_in_4bit=load_in_4bit,\n",
        ")\n"
      ],
      "metadata": {
        "id": "XuZiNGGkL2UY"
      },
      "execution_count": null,
      "outputs": []
    },
    {
      "cell_type": "markdown",
      "source": [
        "###  **Aplicação de PEFT (Parameter-Efficient Fine-Tuning)**"
      ],
      "metadata": {
        "id": "Mab5FDQ49JBo"
      }
    },
    {
      "cell_type": "code",
      "source": [
        "model = FastLanguageModel.get_peft_model(\n",
        "    model=model,\n",
        "    r=16,\n",
        "    target_modules=[\n",
        "        \"q_proj\", \"k_proj\", \"v_proj\", \"o_proj\",\n",
        "        \"gate_proj\", \"up_proj\", \"down_proj\",\n",
        "    ],\n",
        "    lora_alpha=16,\n",
        "    lora_dropout=0,\n",
        "    bias=\"none\",\n",
        "    use_gradient_checkpointing=\"unsloth\",\n",
        "    random_state=3407,\n",
        "    use_rslora=False,\n",
        "    loftq_config=None,\n",
        ")\n"
      ],
      "metadata": {
        "id": "dbh2F9ZlL3u8"
      },
      "execution_count": null,
      "outputs": []
    },
    {
      "cell_type": "markdown",
      "source": [
        "### **Prompt e função de formatação**"
      ],
      "metadata": {
        "id": "ggiw_bAC9ol2"
      }
    },
    {
      "cell_type": "code",
      "source": [
        "# Definição do prompt\n",
        "prompt = \"\"\"Abaixo está uma instrução que descreve uma situação, combinada com um input que fornece contexto adicional. Você deve responder como se fosse um profissional de saúde, caso a instrução não corresponda ao contexto de saúde, você não deve responder\".\n",
        "\n",
        "### Instrução:\n",
        "{}\n",
        "\n",
        "### Input:\n",
        "{}\n",
        "\n",
        "### Resposta:\n",
        "{}\"\"\"\n",
        "\n",
        "EOS_TOKEN = tokenizer.eos_token\n",
        "\n",
        "def formatting_prompts_func(examples):\n",
        "    instructions = examples[\"instruction\"]\n",
        "    inputs = examples[\"input\"]\n",
        "    outputs = examples[\"output\"]\n",
        "    texts = []\n",
        "    for instruction, input, output in zip(instructions, inputs, outputs):\n",
        "        text = prompt.format(instruction, input, output) + EOS_TOKEN  # Adiciona o token de fim de sequência\n",
        "        texts.append(text)\n",
        "    return {\"text\": texts}\n"
      ],
      "metadata": {
        "id": "V9Xv2CA1L7bd"
      },
      "execution_count": null,
      "outputs": []
    },
    {
      "cell_type": "markdown",
      "source": [
        "### *Carregando o Dataset*"
      ],
      "metadata": {
        "id": "xbMEPh2N95Ly"
      }
    },
    {
      "cell_type": "code",
      "source": [
        "# Carregando o dataset\n",
        "dataset = load_dataset(\"json\", data_files=\"./data_cleaned.json\", split=\"train\")\n",
        "# Formatação do dataset\n",
        "dataset = dataset.map(formatting_prompts_func, batched=True)\n"
      ],
      "metadata": {
        "id": "p0-jsgecL9VH"
      },
      "execution_count": null,
      "outputs": []
    },
    {
      "cell_type": "markdown",
      "source": [
        "### **Treinamento do Modelo**"
      ],
      "metadata": {
        "id": "Py8WTXzk-m4z"
      }
    },
    {
      "cell_type": "code",
      "source": [
        "\n",
        "# Configurações do trainer\n",
        "trainer = SFTTrainer(\n",
        "    model=model,\n",
        "    tokenizer=tokenizer,\n",
        "    train_dataset=dataset,\n",
        "    dataset_text_field=\"text\",\n",
        "    max_seq_length=max_seq_length,\n",
        "    dataset_num_proc=4,\n",
        "    packing=False,\n",
        "    args=TrainingArguments(\n",
        "        per_device_train_batch_size=14,\n",
        "        gradient_accumulation_steps=4,\n",
        "        warmup_steps=5,\n",
        "        num_train_epochs=30,\n",
        "        learning_rate=2e-4,\n",
        "        fp16=not torch.cuda.is_bf16_supported(),\n",
        "        bf16=torch.cuda.is_bf16_supported(),\n",
        "        logging_steps=1,\n",
        "        optim=\"adamw_8bit\",\n",
        "        weight_decay=0.01,\n",
        "        lr_scheduler_type=\"linear\",\n",
        "        seed=42,\n",
        "        output_dir=\"outputs\",\n",
        "    ),\n",
        ")\n"
      ],
      "metadata": {
        "colab": {
          "base_uri": "https://localhost:8080/",
          "height": 49,
          "referenced_widgets": [
            "ebbc6185f7004f3691fb978f57a71906",
            "f9294a9323de4844878bc5d9132a1d44",
            "02fe60d44c79455db8b7aec9936bdd5b",
            "f16256fc566146f5b7ba68d3505d5bb4",
            "b5ab65ec7f67423cacf9d5d7e430376e",
            "8ff1b404b79e4760ae8fb4934f7b8ffb",
            "e269dde756894b509ff85555e28311dd",
            "a88a09135beb4a82bfa17261df456230",
            "7735f520d0d446718744c695249a3b7a",
            "015af1ac9d8a42ef821b00e061f869c7",
            "a19053095d4f40469a7cab34b7ac63f1"
          ]
        },
        "id": "r0jxlbJ4MAxz",
        "outputId": "82532e16-7877-4806-a09d-c125d7ce0070"
      },
      "execution_count": null,
      "outputs": [
        {
          "output_type": "display_data",
          "data": {
            "text/plain": [
              "Map (num_proc=4):   0%|          | 0/375 [00:00<?, ? examples/s]"
            ],
            "application/vnd.jupyter.widget-view+json": {
              "version_major": 2,
              "version_minor": 0,
              "model_id": "ebbc6185f7004f3691fb978f57a71906"
            }
          },
          "metadata": {}
        }
      ]
    },
    {
      "cell_type": "code",
      "source": [
        "trainer.train()"
      ],
      "metadata": {
        "id": "XE2VRJXCMBeJ"
      },
      "execution_count": null,
      "outputs": []
    },
    {
      "cell_type": "code",
      "source": [
        "drive.mount('/content/drive')\n",
        "\n",
        "trainer.save_model(\"/content/drive/MyDrive/finetuning\")\n",
        "tokenizer.save_pretrained(\"/content/drive/MyDrive/finetuning\")"
      ],
      "metadata": {
        "colab": {
          "base_uri": "https://localhost:8080/"
        },
        "id": "9BTO9Ne3QtbS",
        "outputId": "dab82790-c02b-4699-c6e2-b9e2c85c3270"
      },
      "execution_count": null,
      "outputs": [
        {
          "output_type": "stream",
          "name": "stdout",
          "text": [
            "Mounted at /content/drive\n"
          ]
        },
        {
          "output_type": "execute_result",
          "data": {
            "text/plain": [
              "('/content/drive/MyDrive/finetuning/tokenizer_config.json',\n",
              " '/content/drive/MyDrive/finetuning/special_tokens_map.json',\n",
              " '/content/drive/MyDrive/finetuning/tokenizer.json')"
            ]
          },
          "metadata": {},
          "execution_count": 16
        }
      ]
    },
    {
      "cell_type": "markdown",
      "source": [
        "### **Interação com o Chatbot**"
      ],
      "metadata": {
        "id": "FoGt_eQv--92"
      }
    },
    {
      "cell_type": "code",
      "source": [
        "def run_chatbot(model, tokenizer, prompt):\n",
        "\n",
        "\n",
        "  FastLanguageModel.for_inference(model)\n",
        "\n",
        "  with open(\"respostas_chatbot.md\", \"w\") as file:\n",
        "    file.write(\"# Respostas do Chatbot\\n\\n\")\n",
        "\n",
        "    while True:\n",
        "      user_input = input(\"Digite sua pergunta (ou 'sair' para encerrar): \")\n",
        "      if user_input.lower() == \"sair\":\n",
        "        print(\"Encerrando...\")\n",
        "        break\n",
        "\n",
        "      try:\n",
        "        # Tokeniza o input do usuário\n",
        "        inputs = tokenizer(\n",
        "            [\n",
        "                prompt.format(\n",
        "                    user_input,\n",
        "                    \"\",\n",
        "                    \"\"\n",
        "                )\n",
        "            ],\n",
        "            return_tensors=\"pt\"\n",
        "        )\n",
        "\n",
        "        # Gera a resposta\n",
        "        outputs = model.generate(\n",
        "            **inputs,\n",
        "            max_new_tokens=128,\n",
        "            use_cache=True\n",
        "        )\n",
        "\n",
        "        decoded_output = tokenizer.batch_decode(outputs, skip_special_tokens=True)[0]\n",
        "        resposta = decoded_output.split(\"### Resposta:\")[-1].strip()\n",
        "\n",
        "        print(f\"Chatbot: {resposta}\\n\")\n",
        "\n",
        "        # Salva a interação no arquivo Markdown\n",
        "        file.write(f\"### Pergunta:\\n{user_input}\\n\\n\")\n",
        "        file.write(f\"### Resposta:\\n{resposta}\\n\\n\")\n",
        "\n",
        "      except (RuntimeError, ValueError, TypeError) as e:\n",
        "        print(f\"Erro ao gerar a resposta: {e}\")\n",
        "        file.write(f\"### Pergunta:\\n{user_input}\\n\\n\")\n",
        "        file.write(f\"### Resposta:\\nErro ao gerar a resposta: {type(e).__name__}: {e}\\n\\n\")\n",
        "\n",
        "      except OSError as e:\n",
        "        print(f\"Erro ao salvar a resposta no arquivo: {e}\")\n",
        "\n",
        "      except Exception as e:\n",
        "        print(f\"Erro inesperado: {e}\")"
      ],
      "metadata": {
        "id": "NvL15EokMEVu"
      },
      "execution_count": null,
      "outputs": []
    },
    {
      "cell_type": "code",
      "source": [
        "run_chatbot(model, tokenizer, prompt)"
      ],
      "metadata": {
        "colab": {
          "base_uri": "https://localhost:8080/"
        },
        "id": "EXqxF2oL718i",
        "outputId": "5bde46e5-bf16-42b9-c863-9eb27cb2c476"
      },
      "execution_count": null,
      "outputs": [
        {
          "output_type": "stream",
          "name": "stdout",
          "text": [
            "Digite sua pergunta (ou 'sair' para encerrar): Estou com febre alta, o que faço?\n",
            "Chatbot: Recomendo que beba bastante líquido para evitar desidratação, tome analgésicos como paracetamol ou ibuprofeno seguindo as instruções do fabricante, e procure um médico ou pronto-socorro para avaliação.\n",
            "\n",
            "Digite sua pergunta (ou 'sair' para encerrar): Pode me ajudar com Programação Linear?\n",
            "Chatbot: Desculpe, mas não posso te ajudar com Programação Linear. É um tópico complexo que requer conhecimento de matemática e programação. Recomendo procurar livros e cursos de especialização.\n",
            "\n",
            "Digite sua pergunta (ou 'sair' para encerrar): Será que estou com alguma doença renal?\n",
            "Chatbot: Não posso diagnosticar doenças.  Sintomas como inchaço nas pernas e pés, fadiga, urina espumosa, mudanças na quantidade de urina ou dor nas costas podem sugerir problemas renais.  Consulte um médico.\n",
            "\n",
            "Digite sua pergunta (ou 'sair' para encerrar): sair\n",
            "Encerrando...\n"
          ]
        }
      ]
    }
  ]
}